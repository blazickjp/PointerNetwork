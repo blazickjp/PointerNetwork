{
 "cells": [
  {
   "cell_type": "code",
   "execution_count": 2,
   "metadata": {},
   "outputs": [],
   "source": [
    "import tensorflow as tf\n",
    "import numpy as np\n",
    "from PntrNetwork import PointerNetwork"
   ]
  },
  {
   "cell_type": "code",
   "execution_count": 3,
   "metadata": {},
   "outputs": [],
   "source": [
    "def load_data(path):\n",
    "    \"\"\"\n",
    "    Loads TSP dataset cited in PointerNetwork Paper\n",
    "\n",
    "    Args:\n",
    "        path: Path to dataset\n",
    "    Returns:\n",
    "        enc_input: Input sequence\n",
    "        dec_input: Target sequence\n",
    "        ans: Target sequence shifted by 1\n",
    "    \"\"\"\n",
    "    with open(path, 'r') as f:\n",
    "        data = f.readlines()\n",
    "    enc_input = []\n",
    "    dec_input = []\n",
    "    ans = []\n",
    "    for line in data:\n",
    "        i, o = line.strip().split(' output ')\n",
    "        enc_input.append(list(map(float, i.split(' '))))\n",
    "        dec_input.append(list(map(float, o.split(' '))))\n",
    "        ans.append(list(map(float, o.split(' '))))\n",
    "    enc_input = np.array(enc_input).squeeze().reshape(len(enc_input), 5, 2).astype('float32')\n",
    "    dec_input = np.subtract(np.array(dec_input).squeeze().reshape(len(dec_input), 6, 1), 1)\n",
    "    ans = np.subtract(np.array(ans).squeeze().reshape(len(ans), 6, 1), 1)\n",
    "    size = dec_input.shape[1]\n",
    "    return enc_input, dec_input[:,0:size-1,:], ans[:,1:,:]\n",
    "\n",
    "def decode_seq(model, enc_input):\n",
    "    \"\"\"\n",
    "    Decode LSTM output sequence\n",
    "\n",
    "    Args:\n",
    "        model: PointerNetwork model\n",
    "        enc_input: Encoder input sequence\n",
    "    Returns:\n",
    "        decoded_seq: Decoded sequence\n",
    "    \"\"\"\n",
    "    dec_input = np.zeros((enc_input.shape[0], seq_len, 1))\n",
    "    for i in range(enc_input.shape[1] - 1):\n",
    "        pred = model.predict([enc_input, dec_input])\n",
    "        dec_input[:,i+1,:] = tf.argmax(pred[:,i,:], axis=-1).numpy()[:,np.newaxis]\n",
    "    return dec_input"
   ]
  },
  {
   "cell_type": "code",
   "execution_count": 4,
   "metadata": {},
   "outputs": [],
   "source": [
    "enc_input, dec_input, output = load_data('../data/tsp5.txt')\n",
    "test_input, _, targets = load_data('../data/tsp5_test.txt')\n",
    "BUFFER_SIZE = enc_input.shape[0]\n",
    "BATCH_SIZE = 64\n",
    "units = 256\n",
    "seq_len = 5"
   ]
  },
  {
   "cell_type": "code",
   "execution_count": 5,
   "metadata": {},
   "outputs": [],
   "source": [
    "mod = PointerNetwork(seq_len, units, BATCH_SIZE)\n",
    "mod.compile(optimizer='adam', loss=tf.keras.losses.SparseCategoricalCrossentropy())"
   ]
  },
  {
   "cell_type": "code",
   "execution_count": 6,
   "metadata": {},
   "outputs": [
    {
     "name": "stdout",
     "output_type": "stream",
     "text": [
      "Epoch 1/5\n",
      "31250/31250 [==============================] - 725s 23ms/step - loss: 0.4866\n",
      "Epoch 2/5\n",
      "31250/31250 [==============================] - 731s 23ms/step - loss: 0.2289\n",
      "Epoch 3/5\n",
      " 2336/31250 [=>............................] - ETA: 11:35 - loss: 0.2068"
     ]
    }
   ],
   "source": [
    "mod.fit([enc_input, dec_input], output, epochs=5)"
   ]
  },
  {
   "cell_type": "code",
   "execution_count": 76,
   "metadata": {},
   "outputs": [
    {
     "data": {
      "text/plain": [
       "array([[[3.],\n",
       "        [4.],\n",
       "        [2.],\n",
       "        [3.],\n",
       "        [0.]],\n",
       "\n",
       "       [[3.],\n",
       "        [4.],\n",
       "        [2.],\n",
       "        [3.],\n",
       "        [0.]],\n",
       "\n",
       "       [[3.],\n",
       "        [4.],\n",
       "        [2.],\n",
       "        [3.],\n",
       "        [0.]]])"
      ]
     },
     "execution_count": 76,
     "metadata": {},
     "output_type": "execute_result"
    }
   ],
   "source": [
    "decode_seq(mod, test_input)"
   ]
  },
  {
   "cell_type": "code",
   "execution_count": 47,
   "metadata": {},
   "outputs": [
    {
     "data": {
      "text/plain": [
       "array([[[4.0110268e-04, 2.5860542e-01, 2.4755125e-01, 2.6400182e-01,\n",
       "         2.2944036e-01],\n",
       "        [1.6250326e-09, 4.4321314e-06, 4.2065501e-02, 3.4119797e-01,\n",
       "         6.1673212e-01],\n",
       "        [7.9299003e-09, 1.5056122e-07, 1.6678314e-05, 7.1853591e-04,\n",
       "         9.9926466e-01],\n",
       "        [1.4585952e-04, 1.3692783e-03, 2.8396944e-02, 1.2854522e-01,\n",
       "         8.4154260e-01],\n",
       "        [3.6734942e-02, 9.2481176e-04, 4.1595466e-02, 2.5929287e-02,\n",
       "         8.9481550e-01]],\n",
       "\n",
       "       [[3.9562522e-04, 2.5597182e-01, 2.4870425e-01, 2.6555920e-01,\n",
       "         2.2936915e-01],\n",
       "        [1.6105764e-09, 4.6196101e-06, 4.3197222e-02, 3.4161666e-01,\n",
       "         6.1518145e-01],\n",
       "        [8.0101668e-09, 1.5500275e-07, 1.7419703e-05, 7.4412505e-04,\n",
       "         9.9923825e-01],\n",
       "        [1.4678562e-04, 1.3891507e-03, 2.9671118e-02, 1.3042437e-01,\n",
       "         8.3836859e-01],\n",
       "        [3.6434706e-02, 9.4254210e-04, 4.3243770e-02, 2.6303645e-02,\n",
       "         8.9307529e-01]]], dtype=float32)"
      ]
     },
     "execution_count": 47,
     "metadata": {},
     "output_type": "execute_result"
    }
   ],
   "source": [
    "mod.predict([enc_input[0:2,:,:], np.zeros((2, seq_len, 1))])"
   ]
  },
  {
   "cell_type": "code",
   "execution_count": null,
   "metadata": {},
   "outputs": [],
   "source": [
    "pred1 = mod([enc_input[0:2,:,:], dec_input[0:2,:,:]], training = False)"
   ]
  },
  {
   "cell_type": "code",
   "execution_count": null,
   "metadata": {},
   "outputs": [],
   "source": [
    "pred1[:,1,:]"
   ]
  },
  {
   "cell_type": "code",
   "execution_count": null,
   "metadata": {},
   "outputs": [],
   "source": []
  }
 ],
 "metadata": {
  "interpreter": {
   "hash": "63fd5069d213b44bf678585dea6b12cceca9941eaf7f819626cde1f2670de90d"
  },
  "kernelspec": {
   "display_name": "Python 3.9.5 64-bit",
   "language": "python",
   "name": "python3"
  },
  "language_info": {
   "codemirror_mode": {
    "name": "ipython",
    "version": 3
   },
   "file_extension": ".py",
   "mimetype": "text/x-python",
   "name": "python",
   "nbconvert_exporter": "python",
   "pygments_lexer": "ipython3",
   "version": "3.9.5"
  },
  "orig_nbformat": 4
 },
 "nbformat": 4,
 "nbformat_minor": 2
}
